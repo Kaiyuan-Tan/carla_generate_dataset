{
 "cells": [
  {
   "cell_type": "code",
   "execution_count": 2,
   "metadata": {},
   "outputs": [],
   "source": [
    "import carla\n",
    "import random"
   ]
  },
  {
   "cell_type": "code",
   "execution_count": 3,
   "metadata": {},
   "outputs": [],
   "source": [
    "client = carla.Client('localhost', 2000)\n",
    "world = client.get_world()"
   ]
  },
  {
   "cell_type": "code",
   "execution_count": 12,
   "metadata": {},
   "outputs": [
    {
     "name": "stdout",
     "output_type": "stream",
     "text": [
      "Location(x=-62.010975, y=1.288139, z=17.589510) Rotation(pitch=-48.045647, yaw=53.329460, roll=0.000444)\n"
     ]
    }
   ],
   "source": [
    "# Retrieve the spectator object\n",
    "spectator = world.get_spectator()\n",
    "\n",
    "# Get the location and rotation of the spectator through its transform\n",
    "transform = spectator.get_transform()\n",
    "\n",
    "location = transform.location\n",
    "rotation = transform.rotation\n",
    "\n",
    "print(location, rotation)\n",
    "\n",
    "# Set the spectator to a position\n",
    "# spectator.set_transform(carla.Transform())\n",
    "# spectator.set_transform(carla.Transform(carla.Location(x=-25.698477, y=-2.615946, z=14.969325),carla.Rotation(pitch=-28.920618, yaw=135.692627, roll=0.000037)))\n"
   ]
  },
  {
   "cell_type": "code",
   "execution_count": 13,
   "metadata": {},
   "outputs": [],
   "source": [
    "spectator.set_transform(carla.Transform(carla.Location(x=-62.010975, y=1.288139, z=17.589510),carla.Rotation(pitch=-48.045647, yaw=53.329460, roll=0.000444)))\n"
   ]
  },
  {
   "cell_type": "markdown",
   "metadata": {},
   "source": [
    "Add Traffic"
   ]
  },
  {
   "cell_type": "code",
   "execution_count": null,
   "metadata": {},
   "outputs": [],
   "source": [
    "vehicle_blueprints = world.get_blueprint_library().filter('*vehicle*')"
   ]
  },
  {
   "cell_type": "code",
   "execution_count": null,
   "metadata": {},
   "outputs": [],
   "source": [
    "# Get the map's spawn points\n",
    "spawn_points = world.get_map().get_spawn_points()\n",
    "\n",
    "# Spawn 50 vehicles randomly distributed throughout the map \n",
    "# for each spawn point, we choose a random vehicle from the blueprint library\n",
    "\n",
    "for i in range(0,200):\n",
    "    world.try_spawn_actor(random.choice(vehicle_blueprints), random.choice(spawn_points))"
   ]
  },
  {
   "cell_type": "code",
   "execution_count": null,
   "metadata": {},
   "outputs": [],
   "source": [
    "# spawn one car:\n",
    "# car_bp = world.get_blueprint_library().find('*vehicle*')\n",
    "\n",
    "ego_vehicle = world.spawn_actor(vehicle_blueprints)"
   ]
  },
  {
   "cell_type": "code",
   "execution_count": null,
   "metadata": {},
   "outputs": [],
   "source": [
    "for vehicle in world.get_actors().filter('*vehicle*'):\n",
    "    vehicle.set_autopilot(True)"
   ]
  },
  {
   "cell_type": "markdown",
   "metadata": {},
   "source": [
    "---------- RGB camera ----------"
   ]
  },
  {
   "cell_type": "code",
   "execution_count": null,
   "metadata": {},
   "outputs": [],
   "source": [
    "camera_trans = carla.Transform(carla.Location(z=0.1))\n",
    "\n",
    "camera_bp= world.get_blueprint_library().find('sensor.camera.rgb')\n",
    "\n",
    "rgb_camera = world.spawn_actor(camera_bp, camera_trans, attach_to=spectator)"
   ]
  },
  {
   "cell_type": "code",
   "execution_count": null,
   "metadata": {},
   "outputs": [],
   "source": [
    "rgb_camera.listen(lambda image: image.save_to_disk('rgb_output2/%06d.png' % image.frame))"
   ]
  },
  {
   "cell_type": "code",
   "execution_count": null,
   "metadata": {},
   "outputs": [],
   "source": [
    "rgb_camera.stop()"
   ]
  },
  {
   "cell_type": "markdown",
   "metadata": {},
   "source": [
    "---------- DVS camera ----------"
   ]
  },
  {
   "cell_type": "code",
   "execution_count": null,
   "metadata": {},
   "outputs": [],
   "source": [
    "camera_trans = carla.Transform(carla.Location(z=0.1))\n",
    "\n",
    "camera_bp= world.get_blueprint_library().find('sensor.camera.dvs')\n",
    "\n",
    "dvs_camera = world.spawn_actor(camera_bp, camera_trans, attach_to=spectator)"
   ]
  },
  {
   "cell_type": "code",
   "execution_count": null,
   "metadata": {},
   "outputs": [],
   "source": [
    "import csv\n",
    "import numpy as np\n",
    "import time\n",
    "import cv2"
   ]
  },
  {
   "cell_type": "code",
   "execution_count": null,
   "metadata": {},
   "outputs": [],
   "source": [
    "def dvs_callback(data, writer, dvs_output_path): # store in csv file\n",
    "    print(\"length = \",len(data))\n",
    "\n",
    "    dvs_events = np.frombuffer(data.raw_data, dtype=np.dtype([\n",
    "        ('x', np.uint16), ('y',np.uint16), ('t',np.int64), ('pol', np.bool)]))\n",
    "    with open(dvs_output_path, mode=\"a\",  newline='') as file:\n",
    "        writer = csv.writer(file)\n",
    "        # dvs_events = np.frombuffer(data.raw_data, dtype=np.dtype([\n",
    "        #     ('x', np.uint16), ('y',np.uint16), ('t',np.int64), ('pol', np.bool)]))\n",
    "        for event in dvs_events:\n",
    "            writer.writerow(event)\n",
    "        file.close()\n",
    "    "
   ]
  },
  {
   "cell_type": "code",
   "execution_count": null,
   "metadata": {},
   "outputs": [],
   "source": [
    "def dvs_callback_img(data): #store in image\n",
    "    dvs_events = np.frombuffer(data.raw_data, dtype=np.dtype([\n",
    "        ('x', np.uint16), ('y',np.uint16), ('t',np.int64), ('pol', np.bool)]))\n",
    "    # dvs_img = np.zero((data.raw_data.height, data.raw_data.width, 3), dtype=np.uint8)\n",
    "    # dvs_img[dsv_events[:]['y'],dsv_events[:]['x'],dsv_events[:]['pol']*2] = 255\n",
    "\n",
    "    dvs_img = data.to_image()\n",
    "    print(dvs_img)\n",
    "    # dvs_img.save_to_disk('output/%06d.png' % dvs_img.frame)\n",
    "    \n",
    "    "
   ]
  },
  {
   "cell_type": "code",
   "execution_count": null,
   "metadata": {},
   "outputs": [],
   "source": [
    "dvs_output_path = \"dvs_output.csv\"\n",
    "with open(dvs_output_path, mode=\"w\",  newline='') as file:\n",
    "    writer = csv.writer(file)\n",
    "    writer.writerow(['x', 'y', 't', 'pol'])\n",
    "    file.close()"
   ]
  },
  {
   "cell_type": "code",
   "execution_count": null,
   "metadata": {},
   "outputs": [],
   "source": [
    "dvs_camera.stop()"
   ]
  },
  {
   "cell_type": "code",
   "execution_count": null,
   "metadata": {},
   "outputs": [],
   "source": [
    "dvs_camera.listen(lambda DVSEventArray: dvs_callback_img(DVSEventArray))\n",
    "# time.sleep(3)\n",
    "# dvs_camera.stop()"
   ]
  },
  {
   "cell_type": "code",
   "execution_count": null,
   "metadata": {},
   "outputs": [],
   "source": [
    "dvs_camera.listen(lambda DVSEventArray: dvs_callback(DVSEventArray, writer, dvs_output_path))\n",
    "time.sleep(3)\n",
    "dvs_camera.stop()"
   ]
  },
  {
   "cell_type": "code",
   "execution_count": null,
   "metadata": {},
   "outputs": [],
   "source": [
    "\n",
    "dvs_output_path = \"dvs_output.csv\"\n",
    "\n",
    "with open(dvs_output_path, mode=\"r\",  newline='') as file:\n",
    "    first = 0\n",
    "    second = 0\n",
    "    reader = csv.reader(file)\n",
    "    for row in reader:\n",
    "        second = int(row[2])\n",
    "        if first > second:\n",
    "            print(\"ERROR!!!\")\n",
    "            print(first, second)\n",
    "        first = int(row[2])\n",
    "    file.close()"
   ]
  }
 ],
 "metadata": {
  "kernelspec": {
   "display_name": "carla",
   "language": "python",
   "name": "python3"
  },
  "language_info": {
   "codemirror_mode": {
    "name": "ipython",
    "version": 3
   },
   "file_extension": ".py",
   "mimetype": "text/x-python",
   "name": "python",
   "nbconvert_exporter": "python",
   "pygments_lexer": "ipython3",
   "version": "3.9.18"
  }
 },
 "nbformat": 4,
 "nbformat_minor": 2
}
